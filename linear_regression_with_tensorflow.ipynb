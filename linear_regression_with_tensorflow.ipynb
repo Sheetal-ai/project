{
  "nbformat": 4,
  "nbformat_minor": 0,
  "metadata": {
    "colab": {
      "name": "linear_regression_with_tensorflow.ipynb",
      "provenance": [],
      "collapsed_sections": [],
      "include_colab_link": true
    },
    "kernelspec": {
      "name": "python3",
      "display_name": "Python 3"
    }
  },
  "cells": [
    {
      "cell_type": "markdown",
      "metadata": {
        "id": "view-in-github",
        "colab_type": "text"
      },
      "source": [
        "<a href=\"https://colab.research.google.com/github/Sheetal-ai/project/blob/master/linear_regression_with_tensorflow.ipynb\" target=\"_parent\"><img src=\"https://colab.research.google.com/assets/colab-badge.svg\" alt=\"Open In Colab\"/></a>"
      ]
    },
    {
      "cell_type": "code",
      "metadata": {
        "colab": {
          "base_uri": "https://localhost:8080/",
          "height": 35
        },
        "id": "oK3qN_GQKLRz",
        "outputId": "8e0e106d-2b47-4867-fbca-c9f083f7e2ff"
      },
      "source": [
        "import tensorflow as tf\n",
        "tf.__version__"
      ],
      "execution_count": null,
      "outputs": [
        {
          "output_type": "execute_result",
          "data": {
            "application/vnd.google.colaboratory.intrinsic+json": {
              "type": "string"
            },
            "text/plain": [
              "'2.4.1'"
            ]
          },
          "metadata": {
            "tags": []
          },
          "execution_count": 1
        }
      ]
    },
    {
      "cell_type": "code",
      "metadata": {
        "colab": {
          "base_uri": "https://localhost:8080/"
        },
        "id": "L7zMbQgzug9U",
        "outputId": "48dc7595-6bdd-44bd-c34e-7499372bc368"
      },
      "source": [
        "!nvidia-smi"
      ],
      "execution_count": null,
      "outputs": [
        {
          "output_type": "stream",
          "text": [
            "NVIDIA-SMI has failed because it couldn't communicate with the NVIDIA driver. Make sure that the latest NVIDIA driver is installed and running.\n",
            "\n"
          ],
          "name": "stdout"
        }
      ]
    },
    {
      "cell_type": "code",
      "metadata": {
        "id": "eE0ReW4fg2dn"
      },
      "source": [
        "#importing important libraries\n",
        "import tensorflow as tf\n",
        "import numpy as np\n",
        "import pandas as pd\n",
        "import matplotlib.pyplot as plt"
      ],
      "execution_count": null,
      "outputs": []
    },
    {
      "cell_type": "code",
      "metadata": {
        "colab": {
          "base_uri": "https://localhost:8080/",
          "height": 204
        },
        "id": "lFAUivmgvYGu",
        "outputId": "23b9f26d-c667-4c27-fbc6-ba05f984fc46"
      },
      "source": [
        "#loading the dataset to pandas dataframe\n",
        "url = 'https://raw.githubusercontent.com/Afsaan/Linear-Regression-with-TensorFlow-2.x/master/graduate_admission.csv'\n",
        "df = pd.read_csv(url)\n",
        "\n",
        "#printing top 5 rows\n",
        "df.head()"
      ],
      "execution_count": null,
      "outputs": [
        {
          "output_type": "execute_result",
          "data": {
            "text/html": [
              "<div>\n",
              "<style scoped>\n",
              "    .dataframe tbody tr th:only-of-type {\n",
              "        vertical-align: middle;\n",
              "    }\n",
              "\n",
              "    .dataframe tbody tr th {\n",
              "        vertical-align: top;\n",
              "    }\n",
              "\n",
              "    .dataframe thead th {\n",
              "        text-align: right;\n",
              "    }\n",
              "</style>\n",
              "<table border=\"1\" class=\"dataframe\">\n",
              "  <thead>\n",
              "    <tr style=\"text-align: right;\">\n",
              "      <th></th>\n",
              "      <th>index</th>\n",
              "      <th>gre</th>\n",
              "      <th>toefl</th>\n",
              "      <th>uni_rating</th>\n",
              "      <th>sop</th>\n",
              "      <th>lor</th>\n",
              "      <th>cgpa</th>\n",
              "      <th>research</th>\n",
              "      <th>admit</th>\n",
              "    </tr>\n",
              "  </thead>\n",
              "  <tbody>\n",
              "    <tr>\n",
              "      <th>0</th>\n",
              "      <td>1</td>\n",
              "      <td>337</td>\n",
              "      <td>118</td>\n",
              "      <td>4</td>\n",
              "      <td>4.5</td>\n",
              "      <td>4.5</td>\n",
              "      <td>9.65</td>\n",
              "      <td>1</td>\n",
              "      <td>0.92</td>\n",
              "    </tr>\n",
              "    <tr>\n",
              "      <th>1</th>\n",
              "      <td>2</td>\n",
              "      <td>324</td>\n",
              "      <td>107</td>\n",
              "      <td>4</td>\n",
              "      <td>4.0</td>\n",
              "      <td>4.5</td>\n",
              "      <td>8.87</td>\n",
              "      <td>1</td>\n",
              "      <td>0.76</td>\n",
              "    </tr>\n",
              "    <tr>\n",
              "      <th>2</th>\n",
              "      <td>3</td>\n",
              "      <td>316</td>\n",
              "      <td>104</td>\n",
              "      <td>3</td>\n",
              "      <td>3.0</td>\n",
              "      <td>3.5</td>\n",
              "      <td>8.00</td>\n",
              "      <td>1</td>\n",
              "      <td>0.72</td>\n",
              "    </tr>\n",
              "    <tr>\n",
              "      <th>3</th>\n",
              "      <td>4</td>\n",
              "      <td>322</td>\n",
              "      <td>110</td>\n",
              "      <td>3</td>\n",
              "      <td>3.5</td>\n",
              "      <td>2.5</td>\n",
              "      <td>8.67</td>\n",
              "      <td>1</td>\n",
              "      <td>0.80</td>\n",
              "    </tr>\n",
              "    <tr>\n",
              "      <th>4</th>\n",
              "      <td>5</td>\n",
              "      <td>314</td>\n",
              "      <td>103</td>\n",
              "      <td>2</td>\n",
              "      <td>2.0</td>\n",
              "      <td>3.0</td>\n",
              "      <td>8.21</td>\n",
              "      <td>0</td>\n",
              "      <td>0.65</td>\n",
              "    </tr>\n",
              "  </tbody>\n",
              "</table>\n",
              "</div>"
            ],
            "text/plain": [
              "   index  gre  toefl  uni_rating  sop  lor  cgpa  research  admit\n",
              "0      1  337    118           4  4.5  4.5  9.65         1   0.92\n",
              "1      2  324    107           4  4.0  4.5  8.87         1   0.76\n",
              "2      3  316    104           3  3.0  3.5  8.00         1   0.72\n",
              "3      4  322    110           3  3.5  2.5  8.67         1   0.80\n",
              "4      5  314    103           2  2.0  3.0  8.21         0   0.65"
            ]
          },
          "metadata": {
            "tags": []
          },
          "execution_count": 4
        }
      ]
    },
    {
      "cell_type": "code",
      "metadata": {
        "colab": {
          "base_uri": "https://localhost:8080/"
        },
        "id": "Y5S0xRSizPIo",
        "outputId": "e57b53d6-3920-43ab-f800-ef8ace539122"
      },
      "source": [
        "# Basic information of the dataset\n",
        "df.info()"
      ],
      "execution_count": null,
      "outputs": [
        {
          "output_type": "stream",
          "text": [
            "<class 'pandas.core.frame.DataFrame'>\n",
            "RangeIndex: 400 entries, 0 to 399\n",
            "Data columns (total 9 columns):\n",
            " #   Column      Non-Null Count  Dtype  \n",
            "---  ------      --------------  -----  \n",
            " 0   index       400 non-null    int64  \n",
            " 1   gre         400 non-null    int64  \n",
            " 2   toefl       400 non-null    int64  \n",
            " 3   uni_rating  400 non-null    int64  \n",
            " 4   sop         400 non-null    float64\n",
            " 5   lor         400 non-null    float64\n",
            " 6   cgpa        400 non-null    float64\n",
            " 7   research    400 non-null    int64  \n",
            " 8   admit       400 non-null    float64\n",
            "dtypes: float64(4), int64(5)\n",
            "memory usage: 28.2 KB\n"
          ],
          "name": "stdout"
        }
      ]
    },
    {
      "cell_type": "code",
      "metadata": {
        "colab": {
          "base_uri": "https://localhost:8080/"
        },
        "id": "z2yATRyXwY-x",
        "outputId": "bcab5d78-9bdf-4bce-fdf9-f0eb8099fd52"
      },
      "source": [
        "df.shape"
      ],
      "execution_count": null,
      "outputs": [
        {
          "output_type": "execute_result",
          "data": {
            "text/plain": [
              "(400, 9)"
            ]
          },
          "metadata": {
            "tags": []
          },
          "execution_count": 6
        }
      ]
    },
    {
      "cell_type": "code",
      "metadata": {
        "id": "5N7AojFPyMgX"
      },
      "source": [
        "#target \n",
        "target = 'admit'\n",
        "\n",
        "# Categorical Columns\n",
        "# categorical_columns = ['research']\n",
        "# df = pd.get_dummies(df,columns = categorical_columns)"
      ],
      "execution_count": null,
      "outputs": []
    },
    {
      "cell_type": "code",
      "metadata": {
        "colab": {
          "base_uri": "https://localhost:8080/",
          "height": 419
        },
        "id": "NoSEAV4VNFpG",
        "outputId": "a179fbd8-214f-4ec2-8d87-675dec19c752"
      },
      "source": [
        "df"
      ],
      "execution_count": null,
      "outputs": [
        {
          "output_type": "execute_result",
          "data": {
            "text/html": [
              "<div>\n",
              "<style scoped>\n",
              "    .dataframe tbody tr th:only-of-type {\n",
              "        vertical-align: middle;\n",
              "    }\n",
              "\n",
              "    .dataframe tbody tr th {\n",
              "        vertical-align: top;\n",
              "    }\n",
              "\n",
              "    .dataframe thead th {\n",
              "        text-align: right;\n",
              "    }\n",
              "</style>\n",
              "<table border=\"1\" class=\"dataframe\">\n",
              "  <thead>\n",
              "    <tr style=\"text-align: right;\">\n",
              "      <th></th>\n",
              "      <th>index</th>\n",
              "      <th>gre</th>\n",
              "      <th>toefl</th>\n",
              "      <th>uni_rating</th>\n",
              "      <th>sop</th>\n",
              "      <th>lor</th>\n",
              "      <th>cgpa</th>\n",
              "      <th>research</th>\n",
              "      <th>admit</th>\n",
              "    </tr>\n",
              "  </thead>\n",
              "  <tbody>\n",
              "    <tr>\n",
              "      <th>0</th>\n",
              "      <td>1</td>\n",
              "      <td>337</td>\n",
              "      <td>118</td>\n",
              "      <td>4</td>\n",
              "      <td>4.5</td>\n",
              "      <td>4.5</td>\n",
              "      <td>9.65</td>\n",
              "      <td>1</td>\n",
              "      <td>0.92</td>\n",
              "    </tr>\n",
              "    <tr>\n",
              "      <th>1</th>\n",
              "      <td>2</td>\n",
              "      <td>324</td>\n",
              "      <td>107</td>\n",
              "      <td>4</td>\n",
              "      <td>4.0</td>\n",
              "      <td>4.5</td>\n",
              "      <td>8.87</td>\n",
              "      <td>1</td>\n",
              "      <td>0.76</td>\n",
              "    </tr>\n",
              "    <tr>\n",
              "      <th>2</th>\n",
              "      <td>3</td>\n",
              "      <td>316</td>\n",
              "      <td>104</td>\n",
              "      <td>3</td>\n",
              "      <td>3.0</td>\n",
              "      <td>3.5</td>\n",
              "      <td>8.00</td>\n",
              "      <td>1</td>\n",
              "      <td>0.72</td>\n",
              "    </tr>\n",
              "    <tr>\n",
              "      <th>3</th>\n",
              "      <td>4</td>\n",
              "      <td>322</td>\n",
              "      <td>110</td>\n",
              "      <td>3</td>\n",
              "      <td>3.5</td>\n",
              "      <td>2.5</td>\n",
              "      <td>8.67</td>\n",
              "      <td>1</td>\n",
              "      <td>0.80</td>\n",
              "    </tr>\n",
              "    <tr>\n",
              "      <th>4</th>\n",
              "      <td>5</td>\n",
              "      <td>314</td>\n",
              "      <td>103</td>\n",
              "      <td>2</td>\n",
              "      <td>2.0</td>\n",
              "      <td>3.0</td>\n",
              "      <td>8.21</td>\n",
              "      <td>0</td>\n",
              "      <td>0.65</td>\n",
              "    </tr>\n",
              "    <tr>\n",
              "      <th>...</th>\n",
              "      <td>...</td>\n",
              "      <td>...</td>\n",
              "      <td>...</td>\n",
              "      <td>...</td>\n",
              "      <td>...</td>\n",
              "      <td>...</td>\n",
              "      <td>...</td>\n",
              "      <td>...</td>\n",
              "      <td>...</td>\n",
              "    </tr>\n",
              "    <tr>\n",
              "      <th>395</th>\n",
              "      <td>396</td>\n",
              "      <td>324</td>\n",
              "      <td>110</td>\n",
              "      <td>3</td>\n",
              "      <td>3.5</td>\n",
              "      <td>3.5</td>\n",
              "      <td>9.04</td>\n",
              "      <td>1</td>\n",
              "      <td>0.82</td>\n",
              "    </tr>\n",
              "    <tr>\n",
              "      <th>396</th>\n",
              "      <td>397</td>\n",
              "      <td>325</td>\n",
              "      <td>107</td>\n",
              "      <td>3</td>\n",
              "      <td>3.0</td>\n",
              "      <td>3.5</td>\n",
              "      <td>9.11</td>\n",
              "      <td>1</td>\n",
              "      <td>0.84</td>\n",
              "    </tr>\n",
              "    <tr>\n",
              "      <th>397</th>\n",
              "      <td>398</td>\n",
              "      <td>330</td>\n",
              "      <td>116</td>\n",
              "      <td>4</td>\n",
              "      <td>5.0</td>\n",
              "      <td>4.5</td>\n",
              "      <td>9.45</td>\n",
              "      <td>1</td>\n",
              "      <td>0.91</td>\n",
              "    </tr>\n",
              "    <tr>\n",
              "      <th>398</th>\n",
              "      <td>399</td>\n",
              "      <td>312</td>\n",
              "      <td>103</td>\n",
              "      <td>3</td>\n",
              "      <td>3.5</td>\n",
              "      <td>4.0</td>\n",
              "      <td>8.78</td>\n",
              "      <td>0</td>\n",
              "      <td>0.67</td>\n",
              "    </tr>\n",
              "    <tr>\n",
              "      <th>399</th>\n",
              "      <td>400</td>\n",
              "      <td>333</td>\n",
              "      <td>117</td>\n",
              "      <td>4</td>\n",
              "      <td>5.0</td>\n",
              "      <td>4.0</td>\n",
              "      <td>9.66</td>\n",
              "      <td>1</td>\n",
              "      <td>0.95</td>\n",
              "    </tr>\n",
              "  </tbody>\n",
              "</table>\n",
              "<p>400 rows × 9 columns</p>\n",
              "</div>"
            ],
            "text/plain": [
              "     index  gre  toefl  uni_rating  sop  lor  cgpa  research  admit\n",
              "0        1  337    118           4  4.5  4.5  9.65         1   0.92\n",
              "1        2  324    107           4  4.0  4.5  8.87         1   0.76\n",
              "2        3  316    104           3  3.0  3.5  8.00         1   0.72\n",
              "3        4  322    110           3  3.5  2.5  8.67         1   0.80\n",
              "4        5  314    103           2  2.0  3.0  8.21         0   0.65\n",
              "..     ...  ...    ...         ...  ...  ...   ...       ...    ...\n",
              "395    396  324    110           3  3.5  3.5  9.04         1   0.82\n",
              "396    397  325    107           3  3.0  3.5  9.11         1   0.84\n",
              "397    398  330    116           4  5.0  4.5  9.45         1   0.91\n",
              "398    399  312    103           3  3.5  4.0  8.78         0   0.67\n",
              "399    400  333    117           4  5.0  4.0  9.66         1   0.95\n",
              "\n",
              "[400 rows x 9 columns]"
            ]
          },
          "metadata": {
            "tags": []
          },
          "execution_count": 8
        }
      ]
    },
    {
      "cell_type": "code",
      "metadata": {
        "id": "rlrbWxrhyO47"
      },
      "source": [
        "# Seperating data into Training and Validation Data\n",
        "training_df = df.sample(frac=0.85, random_state=101)\n",
        "validation_df = df.drop(training_df.index)\n"
      ],
      "execution_count": null,
      "outputs": []
    },
    {
      "cell_type": "code",
      "metadata": {
        "colab": {
          "base_uri": "https://localhost:8080/"
        },
        "id": "7nFfo0P80h3H",
        "outputId": "935b3922-6cbe-49cd-f8af-1f525b220c44"
      },
      "source": [
        "print(f'[INFO] shape of training data {training_df.shape}')\n",
        "print(f'[INFO] shape of validation data {validation_df.shape}')"
      ],
      "execution_count": null,
      "outputs": [
        {
          "output_type": "stream",
          "text": [
            "[INFO] shape of training data (340, 9)\n",
            "[INFO] shape of validation data (60, 9)\n"
          ],
          "name": "stdout"
        }
      ]
    },
    {
      "cell_type": "code",
      "metadata": {
        "colab": {
          "base_uri": "https://localhost:8080/",
          "height": 359
        },
        "id": "YZszAVIi3Q83",
        "outputId": "91e41b2f-c55d-49fe-ed05-28ae1392e092"
      },
      "source": [
        "training_df.head(10)"
      ],
      "execution_count": null,
      "outputs": [
        {
          "output_type": "execute_result",
          "data": {
            "text/html": [
              "<div>\n",
              "<style scoped>\n",
              "    .dataframe tbody tr th:only-of-type {\n",
              "        vertical-align: middle;\n",
              "    }\n",
              "\n",
              "    .dataframe tbody tr th {\n",
              "        vertical-align: top;\n",
              "    }\n",
              "\n",
              "    .dataframe thead th {\n",
              "        text-align: right;\n",
              "    }\n",
              "</style>\n",
              "<table border=\"1\" class=\"dataframe\">\n",
              "  <thead>\n",
              "    <tr style=\"text-align: right;\">\n",
              "      <th></th>\n",
              "      <th>index</th>\n",
              "      <th>gre</th>\n",
              "      <th>toefl</th>\n",
              "      <th>uni_rating</th>\n",
              "      <th>sop</th>\n",
              "      <th>lor</th>\n",
              "      <th>cgpa</th>\n",
              "      <th>research</th>\n",
              "      <th>admit</th>\n",
              "    </tr>\n",
              "  </thead>\n",
              "  <tbody>\n",
              "    <tr>\n",
              "      <th>38</th>\n",
              "      <td>39</td>\n",
              "      <td>304</td>\n",
              "      <td>105</td>\n",
              "      <td>1</td>\n",
              "      <td>3.0</td>\n",
              "      <td>1.5</td>\n",
              "      <td>7.50</td>\n",
              "      <td>0</td>\n",
              "      <td>0.52</td>\n",
              "    </tr>\n",
              "    <tr>\n",
              "      <th>387</th>\n",
              "      <td>388</td>\n",
              "      <td>307</td>\n",
              "      <td>105</td>\n",
              "      <td>2</td>\n",
              "      <td>2.0</td>\n",
              "      <td>3.5</td>\n",
              "      <td>8.10</td>\n",
              "      <td>0</td>\n",
              "      <td>0.53</td>\n",
              "    </tr>\n",
              "    <tr>\n",
              "      <th>270</th>\n",
              "      <td>271</td>\n",
              "      <td>306</td>\n",
              "      <td>105</td>\n",
              "      <td>2</td>\n",
              "      <td>2.5</td>\n",
              "      <td>3.0</td>\n",
              "      <td>8.22</td>\n",
              "      <td>1</td>\n",
              "      <td>0.72</td>\n",
              "    </tr>\n",
              "    <tr>\n",
              "      <th>181</th>\n",
              "      <td>182</td>\n",
              "      <td>305</td>\n",
              "      <td>107</td>\n",
              "      <td>2</td>\n",
              "      <td>2.5</td>\n",
              "      <td>2.5</td>\n",
              "      <td>8.42</td>\n",
              "      <td>0</td>\n",
              "      <td>0.71</td>\n",
              "    </tr>\n",
              "    <tr>\n",
              "      <th>195</th>\n",
              "      <td>196</td>\n",
              "      <td>307</td>\n",
              "      <td>107</td>\n",
              "      <td>2</td>\n",
              "      <td>3.0</td>\n",
              "      <td>3.5</td>\n",
              "      <td>8.52</td>\n",
              "      <td>1</td>\n",
              "      <td>0.78</td>\n",
              "    </tr>\n",
              "    <tr>\n",
              "      <th>201</th>\n",
              "      <td>202</td>\n",
              "      <td>315</td>\n",
              "      <td>110</td>\n",
              "      <td>2</td>\n",
              "      <td>3.5</td>\n",
              "      <td>3.0</td>\n",
              "      <td>8.46</td>\n",
              "      <td>1</td>\n",
              "      <td>0.72</td>\n",
              "    </tr>\n",
              "    <tr>\n",
              "      <th>133</th>\n",
              "      <td>134</td>\n",
              "      <td>323</td>\n",
              "      <td>112</td>\n",
              "      <td>5</td>\n",
              "      <td>4.0</td>\n",
              "      <td>4.5</td>\n",
              "      <td>8.78</td>\n",
              "      <td>0</td>\n",
              "      <td>0.79</td>\n",
              "    </tr>\n",
              "    <tr>\n",
              "      <th>118</th>\n",
              "      <td>119</td>\n",
              "      <td>296</td>\n",
              "      <td>99</td>\n",
              "      <td>2</td>\n",
              "      <td>3.0</td>\n",
              "      <td>3.5</td>\n",
              "      <td>7.28</td>\n",
              "      <td>0</td>\n",
              "      <td>0.47</td>\n",
              "    </tr>\n",
              "    <tr>\n",
              "      <th>189</th>\n",
              "      <td>190</td>\n",
              "      <td>324</td>\n",
              "      <td>112</td>\n",
              "      <td>5</td>\n",
              "      <td>5.0</td>\n",
              "      <td>5.0</td>\n",
              "      <td>9.08</td>\n",
              "      <td>1</td>\n",
              "      <td>0.88</td>\n",
              "    </tr>\n",
              "    <tr>\n",
              "      <th>165</th>\n",
              "      <td>166</td>\n",
              "      <td>322</td>\n",
              "      <td>110</td>\n",
              "      <td>5</td>\n",
              "      <td>4.5</td>\n",
              "      <td>4.0</td>\n",
              "      <td>8.97</td>\n",
              "      <td>0</td>\n",
              "      <td>0.78</td>\n",
              "    </tr>\n",
              "  </tbody>\n",
              "</table>\n",
              "</div>"
            ],
            "text/plain": [
              "     index  gre  toefl  uni_rating  sop  lor  cgpa  research  admit\n",
              "38      39  304    105           1  3.0  1.5  7.50         0   0.52\n",
              "387    388  307    105           2  2.0  3.5  8.10         0   0.53\n",
              "270    271  306    105           2  2.5  3.0  8.22         1   0.72\n",
              "181    182  305    107           2  2.5  2.5  8.42         0   0.71\n",
              "195    196  307    107           2  3.0  3.5  8.52         1   0.78\n",
              "201    202  315    110           2  3.5  3.0  8.46         1   0.72\n",
              "133    134  323    112           5  4.0  4.5  8.78         0   0.79\n",
              "118    119  296     99           2  3.0  3.5  7.28         0   0.47\n",
              "189    190  324    112           5  5.0  5.0  9.08         1   0.88\n",
              "165    166  322    110           5  4.5  4.0  8.97         0   0.78"
            ]
          },
          "metadata": {
            "tags": []
          },
          "execution_count": 11
        }
      ]
    },
    {
      "cell_type": "code",
      "metadata": {
        "id": "BI7897790B8X",
        "colab": {
          "base_uri": "https://localhost:8080/"
        },
        "outputId": "cff5c74c-0142-46ae-97f7-7e0c9a8fed82"
      },
      "source": [
        "# Removing labels from data and converting to numpy array\n",
        "training_labels = training_df.pop(target).values\n",
        "validation_labels = validation_df.pop(target).values\n",
        "training_labels"
      ],
      "execution_count": null,
      "outputs": [
        {
          "output_type": "execute_result",
          "data": {
            "text/plain": [
              "array([0.52, 0.53, 0.72, 0.71, 0.78, 0.72, 0.79, 0.47, 0.88, 0.78, 0.76,\n",
              "       0.75, 0.89, 0.97, 0.39, 0.75, 0.65, 0.7 , 0.51, 0.62, 0.58, 0.67,\n",
              "       0.78, 0.64, 0.57, 0.74, 0.78, 0.74, 0.57, 0.79, 0.71, 0.59, 0.5 ,\n",
              "       0.93, 0.6 , 0.57, 0.71, 0.58, 0.71, 0.77, 0.68, 0.87, 0.9 , 0.74,\n",
              "       0.75, 0.96, 0.65, 0.77, 0.56, 0.72, 0.63, 0.93, 0.85, 0.54, 0.73,\n",
              "       0.7 , 0.72, 0.56, 0.65, 0.38, 0.49, 0.74, 0.64, 0.38, 0.72, 0.64,\n",
              "       0.76, 0.71, 0.45, 0.68, 0.53, 0.55, 0.82, 0.63, 0.54, 0.96, 0.62,\n",
              "       0.9 , 0.62, 0.64, 0.65, 0.8 , 0.46, 0.91, 0.89, 0.73, 0.72, 0.73,\n",
              "       0.8 , 0.7 , 0.72, 0.65, 0.78, 0.9 , 0.59, 0.65, 0.64, 0.76, 0.69,\n",
              "       0.52, 0.48, 0.42, 0.68, 0.45, 0.67, 0.78, 0.47, 0.84, 0.93, 0.85,\n",
              "       0.66, 0.7 , 0.64, 0.8 , 0.97, 0.71, 0.72, 0.73, 0.83, 0.73, 0.86,\n",
              "       0.83, 0.84, 0.87, 0.49, 0.74, 0.9 , 0.91, 0.71, 0.84, 0.94, 0.7 ,\n",
              "       0.9 , 0.64, 0.72, 0.47, 0.44, 0.57, 0.74, 0.71, 0.48, 0.82, 0.69,\n",
              "       0.71, 0.89, 0.78, 0.82, 0.8 , 0.61, 0.76, 0.71, 0.54, 0.79, 0.57,\n",
              "       0.66, 0.9 , 0.95, 0.74, 0.96, 0.58, 0.63, 0.79, 0.97, 0.66, 0.64,\n",
              "       0.71, 0.73, 0.74, 0.68, 0.67, 0.79, 0.82, 0.56, 0.92, 0.77, 0.93,\n",
              "       0.49, 0.7 , 0.91, 0.71, 0.83, 0.93, 0.84, 0.64, 0.62, 0.76, 0.7 ,\n",
              "       0.52, 0.82, 0.67, 0.86, 0.49, 0.66, 0.73, 0.88, 0.79, 0.58, 0.94,\n",
              "       0.76, 0.87, 0.62, 0.78, 0.34, 0.64, 0.93, 0.76, 0.61, 0.81, 0.76,\n",
              "       0.79, 0.67, 0.64, 0.77, 0.94, 0.84, 0.62, 0.47, 0.61, 0.88, 0.67,\n",
              "       0.7 , 0.65, 0.64, 0.93, 0.46, 0.75, 0.64, 0.73, 0.67, 0.68, 0.96,\n",
              "       0.85, 0.78, 0.79, 0.96, 0.62, 0.94, 0.94, 0.53, 0.84, 0.75, 0.44,\n",
              "       0.42, 0.64, 0.95, 0.76, 0.5 , 0.72, 0.79, 0.77, 0.94, 0.81, 0.7 ,\n",
              "       0.69, 0.61, 0.72, 0.76, 0.94, 0.89, 0.66, 0.57, 0.48, 0.9 , 0.73,\n",
              "       0.94, 0.8 , 0.86, 0.79, 0.89, 0.75, 0.47, 0.73, 0.68, 0.46, 0.92,\n",
              "       0.57, 0.92, 0.64, 0.8 , 0.65, 0.86, 0.74, 0.62, 0.71, 0.68, 0.93,\n",
              "       0.78, 0.82, 0.92, 0.72, 0.8 , 0.64, 0.92, 0.58, 0.85, 0.96, 0.44,\n",
              "       0.91, 0.72, 0.36, 0.85, 0.88, 0.95, 0.7 , 0.79, 0.93, 0.69, 0.77,\n",
              "       0.86, 0.63, 0.66, 0.68, 0.63, 0.96, 0.75, 0.81, 0.7 , 0.94, 0.81,\n",
              "       0.73, 0.74, 0.61, 0.73, 0.8 , 0.46, 0.72, 0.34, 0.86, 0.36, 0.89,\n",
              "       0.71, 0.94, 0.82, 0.89, 0.87, 0.81, 0.77, 0.89, 0.64, 0.52])"
            ]
          },
          "metadata": {
            "tags": []
          },
          "execution_count": 19
        }
      ]
    },
    {
      "cell_type": "code",
      "metadata": {
        "colab": {
          "base_uri": "https://localhost:8080/"
        },
        "id": "ksG02ePD104j",
        "outputId": "72f84043-92f2-49ad-dfad-27fc77567210"
      },
      "source": [
        "# basic stats of the training dataset\n",
        "stats = training_df.describe().transpose()\n",
        "print(stats)"
      ],
      "execution_count": null,
      "outputs": [
        {
          "output_type": "stream",
          "text": [
            "            count        mean         std  ...      50%     75%     max\n",
            "index       340.0  200.150000  114.640690  ...  199.500  297.25  400.00\n",
            "gre         340.0  316.561765   11.390585  ...  316.500  325.00  340.00\n",
            "toefl       340.0  107.247059    6.120050  ...  107.000  111.25  120.00\n",
            "uni_rating  340.0    3.070588    1.134477  ...    3.000    4.00    5.00\n",
            "sop         340.0    3.388235    1.017912  ...    3.500    4.00    5.00\n",
            "lor         340.0    3.451471    0.897307  ...    3.500    4.00    5.00\n",
            "cgpa        340.0    8.584794    0.605356  ...    8.565    9.08    9.92\n",
            "research    340.0    0.523529    0.500182  ...    1.000    1.00    1.00\n",
            "admit       340.0    0.722471    0.143358  ...    0.730    0.82    0.97\n",
            "\n",
            "[9 rows x 8 columns]\n"
          ],
          "name": "stdout"
        }
      ]
    },
    {
      "cell_type": "code",
      "metadata": {
        "id": "snko_CNc15Pj"
      },
      "source": [
        "# scaling data w.r.t training_df\n",
        "normalization_training_df = (training_df-stats['mean'])/stats['std']\n",
        "normalization_validation_df = (validation_df-stats['mean'])/stats['std']"
      ],
      "execution_count": null,
      "outputs": []
    },
    {
      "cell_type": "code",
      "metadata": {
        "id": "PZenVPqi4Gdj"
      },
      "source": [
        "# converting the data to numpy array\n",
        "training_data = normalization_training_df.to_numpy()\n",
        "validation_data = normalization_validation_df.to_numpy()"
      ],
      "execution_count": null,
      "outputs": []
    },
    {
      "cell_type": "code",
      "metadata": {
        "colab": {
          "base_uri": "https://localhost:8080/"
        },
        "id": "gvUQ6ADt5siU",
        "outputId": "25db8bd2-24fb-47eb-a2c3-c9a918ad7444"
      },
      "source": [
        "# data type\n",
        "print(f'[INFO] type of training data {type(training_data)}')\n",
        "print(f'[INFO] type of validation data {type(validation_data)}')"
      ],
      "execution_count": null,
      "outputs": [
        {
          "output_type": "stream",
          "text": [
            "[INFO] type of training data <class 'numpy.ndarray'>\n",
            "[INFO] type of validation data <class 'numpy.ndarray'>\n"
          ],
          "name": "stdout"
        }
      ]
    },
    {
      "cell_type": "code",
      "metadata": {
        "id": "L0M_3Iaz5v-A"
      },
      "source": [
        "# prepare tf.data.Dataset for training\n",
        "def prepare_dataset(data , labels , batch, shuffle):\n",
        "  dataset = tf.data.Dataset.from_tensor_slices((data , labels))\n",
        "  dataset = dataset.shuffle(shuffle)\n",
        "  dataset = dataset.batch(batch).prefetch(1)\n",
        "  return dataset"
      ],
      "execution_count": null,
      "outputs": []
    },
    {
      "cell_type": "code",
      "metadata": {
        "id": "lfG-1FgX-Ta9"
      },
      "source": [
        "# preparing Dataset for training\n",
        "batch_size = 32\n",
        "buffer = 100\n",
        "training_dataset = prepare_dataset(training_data, training_labels, batch_size, buffer)\n",
        "validation_dataset = prepare_dataset(validation_data, validation_labels, batch_size, buffer)"
      ],
      "execution_count": null,
      "outputs": []
    },
    {
      "cell_type": "code",
      "metadata": {
        "colab": {
          "base_uri": "https://localhost:8080/"
        },
        "id": "txVCKsne5nHB",
        "outputId": "10e7a7ed-6d86-4f1a-e4b1-9374ebff3b3a"
      },
      "source": [
        "print(type(training_data))"
      ],
      "execution_count": null,
      "outputs": [
        {
          "output_type": "stream",
          "text": [
            "<class 'numpy.ndarray'>\n"
          ],
          "name": "stdout"
        }
      ]
    },
    {
      "cell_type": "code",
      "metadata": {
        "id": "1hgCQPCoSNxv"
      },
      "source": [
        "import tensorflow as tf"
      ],
      "execution_count": null,
      "outputs": []
    },
    {
      "cell_type": "code",
      "metadata": {
        "id": "BAYlNhh5Sb_V"
      },
      "source": [
        "# creating the model\n",
        "model = tf.keras.Sequential([\n",
        "    tf.keras.layers.Dense(6 , activation='relu'), #first hidden layer\n",
        "        tf.keras.layers.Dense(3 , activation='sigmoid'),# second hiddeen layer\n",
        "        tf.keras.layers.Dense(7 , activation='relu'),\n",
        "\n",
        "        tf.keras.layers.Dense(1)\n",
        "        ])"
      ],
      "execution_count": null,
      "outputs": []
    },
    {
      "cell_type": "code",
      "metadata": {
        "id": "A3yXQU8G_-mD"
      },
      "source": [
        "# #creating the model\n",
        "# model = tf.keras.Sequential([\n",
        "#         tf.keras.layers.Dense(128 , activation='relu'),\n",
        "#         tf.keras.layers.Dense(64 , activation='relu'),\n",
        "#         tf.keras.layers.Dense(32 , activation='relu'),\n",
        "#         tf.keras.layers.Dense(1)\n",
        "#         ])"
      ],
      "execution_count": null,
      "outputs": []
    },
    {
      "cell_type": "code",
      "metadata": {
        "id": "rTLOk_CXBBsr"
      },
      "source": [
        "# compiling the model\n",
        "model.compile(\n",
        "    loss = tf.keras.losses.mse,\n",
        "    optimizer = tf.keras.optimizers.SGD(),\n",
        "    metrics=['mae']\n",
        ")"
      ],
      "execution_count": null,
      "outputs": []
    },
    {
      "cell_type": "code",
      "metadata": {
        "colab": {
          "base_uri": "https://localhost:8080/"
        },
        "id": "CZKQV2h0B9VE",
        "outputId": "f3f738f5-8c0c-490d-887c-045508f12d22"
      },
      "source": [
        "history = model.fit(\n",
        "    training_dataset,\n",
        "    epochs=20,\n",
        "    validation_data = validation_dataset\n",
        ")"
      ],
      "execution_count": null,
      "outputs": [
        {
          "output_type": "stream",
          "text": [
            "Epoch 1/20\n",
            "11/11 [==============================] - 1s 25ms/step - loss: 0.5577 - mae: 0.7177 - val_loss: 0.2606 - val_mae: 0.4921\n",
            "Epoch 2/20\n",
            "11/11 [==============================] - 0s 6ms/step - loss: 0.1923 - mae: 0.4139 - val_loss: 0.0944 - val_mae: 0.2887\n",
            "Epoch 3/20\n",
            "11/11 [==============================] - 0s 7ms/step - loss: 0.0722 - mae: 0.2462 - val_loss: 0.0354 - val_mae: 0.1678\n",
            "Epoch 4/20\n",
            "11/11 [==============================] - 0s 5ms/step - loss: 0.0285 - mae: 0.1487 - val_loss: 0.0152 - val_mae: 0.1037\n",
            "Epoch 5/20\n",
            "11/11 [==============================] - 0s 5ms/step - loss: 0.0133 - mae: 0.0961 - val_loss: 0.0085 - val_mae: 0.0750\n",
            "Epoch 6/20\n",
            "11/11 [==============================] - 0s 5ms/step - loss: 0.0087 - mae: 0.0756 - val_loss: 0.0066 - val_mae: 0.0648\n",
            "Epoch 7/20\n",
            "11/11 [==============================] - 0s 6ms/step - loss: 0.0071 - mae: 0.0660 - val_loss: 0.0059 - val_mae: 0.0615\n",
            "Epoch 8/20\n",
            "11/11 [==============================] - 0s 7ms/step - loss: 0.0060 - mae: 0.0607 - val_loss: 0.0057 - val_mae: 0.0607\n",
            "Epoch 9/20\n",
            "11/11 [==============================] - 0s 7ms/step - loss: 0.0064 - mae: 0.0624 - val_loss: 0.0057 - val_mae: 0.0606\n",
            "Epoch 10/20\n",
            "11/11 [==============================] - 0s 6ms/step - loss: 0.0059 - mae: 0.0608 - val_loss: 0.0056 - val_mae: 0.0605\n",
            "Epoch 11/20\n",
            "11/11 [==============================] - 0s 6ms/step - loss: 0.0060 - mae: 0.0606 - val_loss: 0.0056 - val_mae: 0.0604\n",
            "Epoch 12/20\n",
            "11/11 [==============================] - 0s 5ms/step - loss: 0.0060 - mae: 0.0610 - val_loss: 0.0056 - val_mae: 0.0604\n",
            "Epoch 13/20\n",
            "11/11 [==============================] - 0s 7ms/step - loss: 0.0058 - mae: 0.0607 - val_loss: 0.0056 - val_mae: 0.0603\n",
            "Epoch 14/20\n",
            "11/11 [==============================] - 0s 5ms/step - loss: 0.0060 - mae: 0.0619 - val_loss: 0.0056 - val_mae: 0.0604\n",
            "Epoch 15/20\n",
            "11/11 [==============================] - 0s 6ms/step - loss: 0.0064 - mae: 0.0620 - val_loss: 0.0056 - val_mae: 0.0603\n",
            "Epoch 16/20\n",
            "11/11 [==============================] - 0s 6ms/step - loss: 0.0060 - mae: 0.0608 - val_loss: 0.0056 - val_mae: 0.0603\n",
            "Epoch 17/20\n",
            "11/11 [==============================] - 0s 7ms/step - loss: 0.0060 - mae: 0.0616 - val_loss: 0.0056 - val_mae: 0.0602\n",
            "Epoch 18/20\n",
            "11/11 [==============================] - 0s 6ms/step - loss: 0.0062 - mae: 0.0626 - val_loss: 0.0056 - val_mae: 0.0602\n",
            "Epoch 19/20\n",
            "11/11 [==============================] - 0s 7ms/step - loss: 0.0059 - mae: 0.0598 - val_loss: 0.0056 - val_mae: 0.0601\n",
            "Epoch 20/20\n",
            "11/11 [==============================] - 0s 7ms/step - loss: 0.0058 - mae: 0.0601 - val_loss: 0.0056 - val_mae: 0.0601\n"
          ],
          "name": "stdout"
        }
      ]
    },
    {
      "cell_type": "code",
      "metadata": {
        "colab": {
          "base_uri": "https://localhost:8080/"
        },
        "id": "T05Cutmk6E7r",
        "outputId": "a7cb3b84-0a1d-424c-f0fb-e843f173d68f"
      },
      "source": [
        "model.summary()"
      ],
      "execution_count": null,
      "outputs": [
        {
          "output_type": "stream",
          "text": [
            "Model: \"sequential\"\n",
            "_________________________________________________________________\n",
            "Layer (type)                 Output Shape              Param #   \n",
            "=================================================================\n",
            "dense (Dense)                (None, 6)                 60        \n",
            "_________________________________________________________________\n",
            "dense_1 (Dense)              (None, 3)                 21        \n",
            "_________________________________________________________________\n",
            "dense_2 (Dense)              (None, 7)                 28        \n",
            "_________________________________________________________________\n",
            "dense_3 (Dense)              (None, 1)                 8         \n",
            "=================================================================\n",
            "Total params: 117\n",
            "Trainable params: 117\n",
            "Non-trainable params: 0\n",
            "_________________________________________________________________\n"
          ],
          "name": "stdout"
        }
      ]
    },
    {
      "cell_type": "code",
      "metadata": {
        "colab": {
          "base_uri": "https://localhost:8080/",
          "height": 592
        },
        "id": "0h1947cXCGXw",
        "outputId": "d44cfa9b-423f-425c-f9f1-de95600ff26f"
      },
      "source": [
        "# plotting Training and Validation Loss and MAE\n",
        "mae = history.history['mae']\n",
        "validation_mae = history.history['val_mae']\n",
        "epochs = range(len(mae))\n",
        "\n",
        "plt.figure(figsize=(15,10))\n",
        "plt.plot(epochs, mae , label=['Training MAE'])\n",
        "plt.plot(epochs, validation_mae , label=['Validation MAE'])\n",
        "plt.legend()\n",
        "plt.savefig('mae.jpg')\n",
        "plt.show()"
      ],
      "execution_count": null,
      "outputs": [
        {
          "output_type": "display_data",
          "data": {
            "image/png": "[encoded data removed]",
            "text/plain": [
              "<Figure size 1080x720 with 1 Axes>"
            ]
          },
          "metadata": {
            "tags": [],
            "needs_background": "light"
          }
        }
      ]
    },
    {
      "cell_type": "code",
      "metadata": {
        "colab": {
          "base_uri": "https://localhost:8080/",
          "height": 592
        },
        "id": "Gsr-LO93DzMI",
        "outputId": "34383a1e-f595-44ba-a990-9d065109d7a6"
      },
      "source": [
        "loss = history.history['loss']\n",
        "validation_loss = history.history['val_loss']\n",
        "epochs = range(len(mae))\n",
        "\n",
        "\n",
        "plt.figure(figsize=(15,10))\n",
        "plt.plot(epochs, loss , label=['Training Loss'])\n",
        "plt.plot(epochs, validation_loss , label=['Validation Loss'])\n",
        "plt.legend()\n",
        "plt.savefig('loss.jpg')\n",
        "plt.show()"
      ],
      "execution_count": null,
      "outputs": [
        {
          "output_type": "display_data",
          "data": {
            "image/png": "[encoded data removed]",
            "text/plain": [
              "<Figure size 1080x720 with 1 Axes>"
            ]
          },
          "metadata": {
            "tags": [],
            "needs_background": "light"
          }
        }
      ]
    },
    {
      "cell_type": "code",
      "metadata": {
        "id": "6vaOUeZuE-9K"
      },
      "source": [
        "model.predict([test_Datatset])"
      ],
      "execution_count": null,
      "outputs": []
    }
  ]
}