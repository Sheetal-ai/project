{
 "cells": [
  {
   "cell_type": "code",
   "execution_count": 1,
   "metadata": {},
   "outputs": [],
   "source": [
    "#**Question 1.** Write a python program to find out the words after '@' from the below sentences with the use of regex.\n",
    "\n",
    "#\"xyz@gmail.com\",\n",
    "#\"abc@yahoo.com\",\n",
    "#\"xyz@hotmail.com\",\n",
    "#\"abc@ineuron.ai\",\n",
    "#\"xyz@outlook.com\""
   ]
  },
  {
   "cell_type": "code",
   "execution_count": 10,
   "metadata": {},
   "outputs": [
    {
     "data": {
      "text/plain": [
       "'outlook.com'"
      ]
     },
     "execution_count": 10,
     "metadata": {},
     "output_type": "execute_result"
    }
   ],
   "source": [
    "import re\n",
    "def split(sent):\n",
    "    output =re.split(\"@\",sent)\n",
    "    return output[1]\n",
    "split(\"xyz@gmail.com\")\n",
    "split(\"abc@yahoo.com\")\n",
    "split(\"xyz@hotmail.com\")\n",
    "split(\"abc@ineuron.ai\")\n",
    "split(\"xyz@outlook.com\")"
   ]
  },
  {
   "cell_type": "code",
   "execution_count": 21,
   "metadata": {},
   "outputs": [
    {
     "name": "stdout",
     "output_type": "stream",
     "text": [
      "New\n"
     ]
    }
   ],
   "source": [
    "#**Question 2.** Write a python program with the use of regex to take out the word \"New\" from the following sentence.\n",
    "phrase = [\"New Delhi is the capital of India\"]\n",
    "phrase = ''.join(phrase)\n",
    "for i in re.finditer(\"New\",phrase):\n",
    "    startindex = i.start()\n",
    "    endindex   = i.end()\n",
    "    print(phrase[startindex:endindex])\n"
   ]
  },
  {
   "cell_type": "code",
   "execution_count": 40,
   "metadata": {},
   "outputs": [
    {
     "data": {
      "text/plain": [
       "'in india,  people got affected with corona virus and  are died.'"
      ]
     },
     "execution_count": 40,
     "metadata": {},
     "output_type": "execute_result"
    }
   ],
   "source": [
    "#**Question 3.** Create one python program in which you have to lowercase the sentence first and than delete digits from \n",
    "#the following sentence.\n",
    "import re\n",
    "input = \"In India, 184 people got affected with Corona virus and 4 are died.\"\n",
    "input = input.lower()\n",
    "output = re.sub('[0-9]','',input)\n",
    "output"
   ]
  },
  {
   "cell_type": "code",
   "execution_count": 66,
   "metadata": {},
   "outputs": [
    {
     "data": {
      "text/plain": [
       "'i hope that , when i have built up my saving , i will be able to travel to hawai .'"
      ]
     },
     "execution_count": 66,
     "metadata": {},
     "output_type": "execute_result"
    }
   ],
   "source": [
    "#**Question 4.** Do stemming, lemmatization and tokenization from the following sentence.\n",
    "\n",
    "data = \"I hope that, when I have built up my savings, I will be able to travel to Hawai.\"\n",
    "import nltk\n",
    "#Word tokenize\n",
    "word_token = nltk.word_tokenize(data.lower())\n",
    "word_token\n",
    "#Sentence tokenize\n",
    "sent_token = nltk.sent_tokenize(data.lower())\n",
    "sent_token\n",
    "#Snowball stemming\n",
    "from nltk.stem import SnowballStemmer\n",
    "stemmer = SnowballStemmer('english')\n",
    "output_stem =' '.join([stemmer.stem(k) for k in word_token])\n",
    "output_stem\n",
    "#Lemmatization\n",
    "from nltk.stem import WordNetLemmatizer\n",
    "lemma = WordNetLemmatizer()\n",
    "output_lemma = ' '.join([lemma.lemmatize(k) for k in word_token])\n",
    "output_lemma\n"
   ]
  },
  {
   "cell_type": "code",
   "execution_count": 76,
   "metadata": {},
   "outputs": [
    {
     "data": {
      "text/plain": [
       "['I', 'l', 'N', 'n', 'y']"
      ]
     },
     "execution_count": 76,
     "metadata": {},
     "output_type": "execute_result"
    }
   ],
   "source": [
    "#**Question 5.** Create one python program from the following sentence.\n",
    "\n",
    "#\"I love NLP, not you\"\n",
    "\n",
    "#output : ['I', 'l', 'N', 'n', 'y']\n",
    "import string\n",
    "punct = string.punctuation\n",
    "input = \"I love NLP, not you\"\n",
    "word_token=nltk.word_tokenize(input)\n",
    "output = [i[0] for i in word_token if i not in list(punct)]\n",
    "output\n"
   ]
  },
  {
   "cell_type": "code",
   "execution_count": null,
   "metadata": {},
   "outputs": [],
   "source": []
  }
 ],
 "metadata": {
  "kernelspec": {
   "display_name": "Python 3",
   "language": "python",
   "name": "python3"
  },
  "language_info": {
   "codemirror_mode": {
    "name": "ipython",
    "version": 3
   },
   "file_extension": ".py",
   "mimetype": "text/x-python",
   "name": "python",
   "nbconvert_exporter": "python",
   "pygments_lexer": "ipython3",
   "version": "3.8.3"
  }
 },
 "nbformat": 4,
 "nbformat_minor": 4
}
